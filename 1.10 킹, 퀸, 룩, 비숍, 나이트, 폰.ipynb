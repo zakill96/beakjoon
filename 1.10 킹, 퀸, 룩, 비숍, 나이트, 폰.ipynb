{
 "cells": [
  {
   "cell_type": "markdown",
   "id": "9dd7d53e",
   "metadata": {},
   "source": [
    "동혁이는 오래된 창고를 뒤지다가 낡은 체스판과 피스를 발견했다.\n",
    "\n",
    "체스판의 먼지를 털어내고 걸레로 닦으니 그럭저럭 쓸만한 체스판이 되었다. 하지만, 검정색 피스는 모두 있었으나, 흰색 피스는 개수가 올바르지 않았다.\n",
    "\n",
    "체스는 총 16개의 피스를 사용하며, 킹 1개, 퀸 1개, 룩 2개, 비숍 2개, 나이트 2개, 폰 8개로 구성되어 있다.\n",
    "\n",
    "동혁이가 발견한 흰색 피스의 개수가 주어졌을 때, 몇 개를 더하거나 빼야 올바른 세트가 되는지 구하는 프로그램을 작성하시오."
   ]
  },
  {
   "cell_type": "code",
   "execution_count": 12,
   "id": "907817ae",
   "metadata": {},
   "outputs": [
    {
     "name": "stdout",
     "output_type": "stream",
     "text": [
      "2 1 2 1 2 1\n",
      "-1 0 0 1 0 7\n"
     ]
    }
   ],
   "source": [
    "king, queen, rook, bishop, knight, pawn = map(int, input().split()) \n",
    "\n",
    "k = 1\n",
    "q= 1\n",
    "r =2\n",
    "b =2\n",
    "kn =2\n",
    "p =8\n",
    "\n",
    "k -= king\n",
    "q -= queen\n",
    "r -=rook\n",
    "b -=bishop\n",
    "kn-=knight\n",
    "p-=pawn\n",
    "\n",
    "print(k,q,r,b,kn,p)"
   ]
  },
  {
   "cell_type": "code",
   "execution_count": null,
   "id": "b0f5e193",
   "metadata": {},
   "outputs": [],
   "source": []
  }
 ],
 "metadata": {
  "kernelspec": {
   "display_name": "Python 3 (ipykernel)",
   "language": "python",
   "name": "python3"
  },
  "language_info": {
   "codemirror_mode": {
    "name": "ipython",
    "version": 3
   },
   "file_extension": ".py",
   "mimetype": "text/x-python",
   "name": "python",
   "nbconvert_exporter": "python",
   "pygments_lexer": "ipython3",
   "version": "3.10.4"
  }
 },
 "nbformat": 4,
 "nbformat_minor": 5
}
