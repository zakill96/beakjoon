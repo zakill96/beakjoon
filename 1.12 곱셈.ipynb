{
 "cells": [
  {
   "cell_type": "markdown",
   "id": "faf38314",
   "metadata": {},
   "source": [
    "(세 자리 수) × (세 자리 수)는 다음과 같은 과정을 통하여 이루어진다.\n",
    "\n",
    "\n",
    "\n",
    "(1)과 (2)위치에 들어갈 세 자리 자연수가 주어질 때 (3), (4), (5), (6)위치에 들어갈 값을 구하는 프로그램을 작성하시오."
   ]
  },
  {
   "cell_type": "code",
   "execution_count": 13,
   "id": "156f2ffb",
   "metadata": {},
   "outputs": [
    {
     "name": "stdout",
     "output_type": "stream",
     "text": [
      "472\n",
      "385\n",
      "2360\n",
      "3776\n",
      "1416\n",
      "181720\n"
     ]
    }
   ],
   "source": [
    "A= int(input())\n",
    "B= int(input())\n",
    "\n",
    "B_str = str(B)\n",
    "\n",
    "print(int(B_str[-1])*A)\n",
    "print(int(B_str[-2])*A)\n",
    "print(int(B_str[0])*A)\n",
    "print(B*A)"
   ]
  },
  {
   "cell_type": "code",
   "execution_count": null,
   "id": "59d688d5",
   "metadata": {},
   "outputs": [],
   "source": []
  }
 ],
 "metadata": {
  "kernelspec": {
   "display_name": "Python 3 (ipykernel)",
   "language": "python",
   "name": "python3"
  },
  "language_info": {
   "codemirror_mode": {
    "name": "ipython",
    "version": 3
   },
   "file_extension": ".py",
   "mimetype": "text/x-python",
   "name": "python",
   "nbconvert_exporter": "python",
   "pygments_lexer": "ipython3",
   "version": "3.10.4"
  }
 },
 "nbformat": 4,
 "nbformat_minor": 5
}
